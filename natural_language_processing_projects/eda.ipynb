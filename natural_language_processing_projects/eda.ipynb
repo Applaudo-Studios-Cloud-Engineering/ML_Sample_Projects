{
 "cells": [
  {
   "cell_type": "code",
   "execution_count": 30,
   "metadata": {
    "collapsed": true,
    "pycharm": {
     "name": "#%%\n"
    }
   },
   "outputs": [],
   "source": [
    "import pandas as pd\n",
    "import numpy as np\n",
    "import re\n",
    "import nltk\n",
    "from sklearn.feature_extraction.text import TfidfVectorizer\n",
    "from sklearn.model_selection import KFold\n",
    "from sklearn.linear_model import LogisticRegression\n",
    "from sklearn.metrics import roc_auc_score\n",
    "\n",
    "from scipy.sparse import hstack"
   ]
  },
  {
   "cell_type": "code",
   "execution_count": 3,
   "outputs": [
    {
     "data": {
      "text/plain": "                 id      target\ncount   7613.000000  7613.00000\nmean    5441.934848     0.42966\nstd     3137.116090     0.49506\nmin        1.000000     0.00000\n25%     2734.000000     0.00000\n50%     5408.000000     0.00000\n75%     8146.000000     1.00000\nmax    10873.000000     1.00000",
      "text/html": "<div>\n<style scoped>\n    .dataframe tbody tr th:only-of-type {\n        vertical-align: middle;\n    }\n\n    .dataframe tbody tr th {\n        vertical-align: top;\n    }\n\n    .dataframe thead th {\n        text-align: right;\n    }\n</style>\n<table border=\"1\" class=\"dataframe\">\n  <thead>\n    <tr style=\"text-align: right;\">\n      <th></th>\n      <th>id</th>\n      <th>target</th>\n    </tr>\n  </thead>\n  <tbody>\n    <tr>\n      <th>count</th>\n      <td>7613.000000</td>\n      <td>7613.00000</td>\n    </tr>\n    <tr>\n      <th>mean</th>\n      <td>5441.934848</td>\n      <td>0.42966</td>\n    </tr>\n    <tr>\n      <th>std</th>\n      <td>3137.116090</td>\n      <td>0.49506</td>\n    </tr>\n    <tr>\n      <th>min</th>\n      <td>1.000000</td>\n      <td>0.00000</td>\n    </tr>\n    <tr>\n      <th>25%</th>\n      <td>2734.000000</td>\n      <td>0.00000</td>\n    </tr>\n    <tr>\n      <th>50%</th>\n      <td>5408.000000</td>\n      <td>0.00000</td>\n    </tr>\n    <tr>\n      <th>75%</th>\n      <td>8146.000000</td>\n      <td>1.00000</td>\n    </tr>\n    <tr>\n      <th>max</th>\n      <td>10873.000000</td>\n      <td>1.00000</td>\n    </tr>\n  </tbody>\n</table>\n</div>"
     },
     "execution_count": 3,
     "metadata": {},
     "output_type": "execute_result"
    }
   ],
   "source": [
    "train_df = pd.read_csv('data/train.csv').fillna('')\n",
    "test_df = pd.read_csv('data/test.csv').fillna('')\n",
    "train_df.describe()"
   ],
   "metadata": {
    "collapsed": false,
    "pycharm": {
     "name": "#%%\n"
    }
   }
  },
  {
   "cell_type": "code",
   "execution_count": 4,
   "outputs": [
    {
     "name": "stdout",
     "output_type": "stream",
     "text": [
      "<class 'pandas.core.frame.DataFrame'>\n",
      "RangeIndex: 7613 entries, 0 to 7612\n",
      "Data columns (total 5 columns):\n",
      " #   Column    Non-Null Count  Dtype \n",
      "---  ------    --------------  ----- \n",
      " 0   id        7613 non-null   int64 \n",
      " 1   keyword   7613 non-null   object\n",
      " 2   location  7613 non-null   object\n",
      " 3   text      7613 non-null   object\n",
      " 4   target    7613 non-null   int64 \n",
      "dtypes: int64(2), object(3)\n",
      "memory usage: 297.5+ KB\n"
     ]
    }
   ],
   "source": [
    "train_df.info()"
   ],
   "metadata": {
    "collapsed": false,
    "pycharm": {
     "name": "#%%\n"
    }
   }
  },
  {
   "cell_type": "code",
   "execution_count": 5,
   "outputs": [
    {
     "data": {
      "text/plain": "   id keyword location                                               text  \\\n0   1                   Our Deeds are the Reason of this #earthquake M...   \n1   4                              Forest fire near La Ronge Sask. Canada   \n2   5                   All residents asked to 'shelter in place' are ...   \n3   6                   13,000 people receive #wildfires evacuation or...   \n4   7                   Just got sent this photo from Ruby #Alaska as ...   \n5   8                   #RockyFire Update => California Hwy. 20 closed...   \n6  10                   #flood #disaster Heavy rain causes flash flood...   \n7  13                   I'm on top of the hill and I can see a fire in...   \n8  14                   There's an emergency evacuation happening now ...   \n9  15                   I'm afraid that the tornado is coming to our a...   \n\n   target  \n0       1  \n1       1  \n2       1  \n3       1  \n4       1  \n5       1  \n6       1  \n7       1  \n8       1  \n9       1  ",
      "text/html": "<div>\n<style scoped>\n    .dataframe tbody tr th:only-of-type {\n        vertical-align: middle;\n    }\n\n    .dataframe tbody tr th {\n        vertical-align: top;\n    }\n\n    .dataframe thead th {\n        text-align: right;\n    }\n</style>\n<table border=\"1\" class=\"dataframe\">\n  <thead>\n    <tr style=\"text-align: right;\">\n      <th></th>\n      <th>id</th>\n      <th>keyword</th>\n      <th>location</th>\n      <th>text</th>\n      <th>target</th>\n    </tr>\n  </thead>\n  <tbody>\n    <tr>\n      <th>0</th>\n      <td>1</td>\n      <td></td>\n      <td></td>\n      <td>Our Deeds are the Reason of this #earthquake M...</td>\n      <td>1</td>\n    </tr>\n    <tr>\n      <th>1</th>\n      <td>4</td>\n      <td></td>\n      <td></td>\n      <td>Forest fire near La Ronge Sask. Canada</td>\n      <td>1</td>\n    </tr>\n    <tr>\n      <th>2</th>\n      <td>5</td>\n      <td></td>\n      <td></td>\n      <td>All residents asked to 'shelter in place' are ...</td>\n      <td>1</td>\n    </tr>\n    <tr>\n      <th>3</th>\n      <td>6</td>\n      <td></td>\n      <td></td>\n      <td>13,000 people receive #wildfires evacuation or...</td>\n      <td>1</td>\n    </tr>\n    <tr>\n      <th>4</th>\n      <td>7</td>\n      <td></td>\n      <td></td>\n      <td>Just got sent this photo from Ruby #Alaska as ...</td>\n      <td>1</td>\n    </tr>\n    <tr>\n      <th>5</th>\n      <td>8</td>\n      <td></td>\n      <td></td>\n      <td>#RockyFire Update =&gt; California Hwy. 20 closed...</td>\n      <td>1</td>\n    </tr>\n    <tr>\n      <th>6</th>\n      <td>10</td>\n      <td></td>\n      <td></td>\n      <td>#flood #disaster Heavy rain causes flash flood...</td>\n      <td>1</td>\n    </tr>\n    <tr>\n      <th>7</th>\n      <td>13</td>\n      <td></td>\n      <td></td>\n      <td>I'm on top of the hill and I can see a fire in...</td>\n      <td>1</td>\n    </tr>\n    <tr>\n      <th>8</th>\n      <td>14</td>\n      <td></td>\n      <td></td>\n      <td>There's an emergency evacuation happening now ...</td>\n      <td>1</td>\n    </tr>\n    <tr>\n      <th>9</th>\n      <td>15</td>\n      <td></td>\n      <td></td>\n      <td>I'm afraid that the tornado is coming to our a...</td>\n      <td>1</td>\n    </tr>\n  </tbody>\n</table>\n</div>"
     },
     "execution_count": 5,
     "metadata": {},
     "output_type": "execute_result"
    }
   ],
   "source": [
    "train_df.head(10)"
   ],
   "metadata": {
    "collapsed": false,
    "pycharm": {
     "name": "#%%\n"
    }
   }
  },
  {
   "cell_type": "code",
   "execution_count": 6,
   "outputs": [
    {
     "data": {
      "text/plain": "id          0\nkeyword     0\nlocation    0\ntext        0\ntarget      0\ndtype: int64"
     },
     "execution_count": 6,
     "metadata": {},
     "output_type": "execute_result"
    }
   ],
   "source": [
    "train_df[(train_df['location'].isna()) & (train_df['target'] == 1)].count()"
   ],
   "metadata": {
    "collapsed": false,
    "pycharm": {
     "name": "#%%\n"
    }
   }
  },
  {
   "cell_type": "code",
   "execution_count": 7,
   "outputs": [],
   "source": [
    "train_df['raw_tokens'] = train_df['text'].apply(nltk.word_tokenize)\n",
    "train_df['raw_token_count'] = train_df['raw_tokens'].apply(lambda tokens: len(tokens))"
   ],
   "metadata": {
    "collapsed": false,
    "pycharm": {
     "name": "#%%\n"
    }
   }
  },
  {
   "cell_type": "code",
   "execution_count": 8,
   "outputs": [
    {
     "data": {
      "text/plain": "   id keyword location                                               text  \\\n0   1                   Our Deeds are the Reason of this #earthquake M...   \n1   4                              Forest fire near La Ronge Sask. Canada   \n2   5                   All residents asked to 'shelter in place' are ...   \n3   6                   13,000 people receive #wildfires evacuation or...   \n4   7                   Just got sent this photo from Ruby #Alaska as ...   \n\n   target                                         raw_tokens  raw_token_count  \n0       1  [Our, Deeds, are, the, Reason, of, this, #, ea...               14  \n1       1   [Forest, fire, near, La, Ronge, Sask, ., Canada]                8  \n2       1  [All, residents, asked, to, 'shelter, in, plac...               24  \n3       1  [13,000, people, receive, #, wildfires, evacua...                9  \n4       1  [Just, got, sent, this, photo, from, Ruby, #, ...               18  ",
      "text/html": "<div>\n<style scoped>\n    .dataframe tbody tr th:only-of-type {\n        vertical-align: middle;\n    }\n\n    .dataframe tbody tr th {\n        vertical-align: top;\n    }\n\n    .dataframe thead th {\n        text-align: right;\n    }\n</style>\n<table border=\"1\" class=\"dataframe\">\n  <thead>\n    <tr style=\"text-align: right;\">\n      <th></th>\n      <th>id</th>\n      <th>keyword</th>\n      <th>location</th>\n      <th>text</th>\n      <th>target</th>\n      <th>raw_tokens</th>\n      <th>raw_token_count</th>\n    </tr>\n  </thead>\n  <tbody>\n    <tr>\n      <th>0</th>\n      <td>1</td>\n      <td></td>\n      <td></td>\n      <td>Our Deeds are the Reason of this #earthquake M...</td>\n      <td>1</td>\n      <td>[Our, Deeds, are, the, Reason, of, this, #, ea...</td>\n      <td>14</td>\n    </tr>\n    <tr>\n      <th>1</th>\n      <td>4</td>\n      <td></td>\n      <td></td>\n      <td>Forest fire near La Ronge Sask. Canada</td>\n      <td>1</td>\n      <td>[Forest, fire, near, La, Ronge, Sask, ., Canada]</td>\n      <td>8</td>\n    </tr>\n    <tr>\n      <th>2</th>\n      <td>5</td>\n      <td></td>\n      <td></td>\n      <td>All residents asked to 'shelter in place' are ...</td>\n      <td>1</td>\n      <td>[All, residents, asked, to, 'shelter, in, plac...</td>\n      <td>24</td>\n    </tr>\n    <tr>\n      <th>3</th>\n      <td>6</td>\n      <td></td>\n      <td></td>\n      <td>13,000 people receive #wildfires evacuation or...</td>\n      <td>1</td>\n      <td>[13,000, people, receive, #, wildfires, evacua...</td>\n      <td>9</td>\n    </tr>\n    <tr>\n      <th>4</th>\n      <td>7</td>\n      <td></td>\n      <td></td>\n      <td>Just got sent this photo from Ruby #Alaska as ...</td>\n      <td>1</td>\n      <td>[Just, got, sent, this, photo, from, Ruby, #, ...</td>\n      <td>18</td>\n    </tr>\n  </tbody>\n</table>\n</div>"
     },
     "execution_count": 8,
     "metadata": {},
     "output_type": "execute_result"
    }
   ],
   "source": [
    "train_df.head()"
   ],
   "metadata": {
    "collapsed": false,
    "pycharm": {
     "name": "#%%\n"
    }
   }
  },
  {
   "cell_type": "code",
   "execution_count": 41,
   "outputs": [],
   "source": [
    "train_df['processed_text'] = train_df['text'].apply(lambda text: text.lower())\n",
    "train_df['processed_text'] = train_df['processed_text'].apply(lambda text: re.sub(r'http\\S+', ' ', text))\n",
    "train_df['processed_text'] = train_df['processed_text'].apply(lambda text: re.sub(r'[!@#$\\']', '', text))"
   ],
   "metadata": {
    "collapsed": false,
    "pycharm": {
     "name": "#%%\n"
    }
   }
  },
  {
   "cell_type": "code",
   "execution_count": 40,
   "outputs": [
    {
     "data": {
      "text/plain": "   id keyword location                                               text  \\\n0   1                   Our Deeds are the Reason of this #earthquake M...   \n1   4                              Forest fire near La Ronge Sask. Canada   \n2   5                   All residents asked to 'shelter in place' are ...   \n3   6                   13,000 people receive #wildfires evacuation or...   \n4   7                   Just got sent this photo from Ruby #Alaska as ...   \n\n   target                                         raw_tokens  raw_token_count  \\\n0       1  [Our, Deeds, are, the, Reason, of, this, #, ea...               14   \n1       1   [Forest, fire, near, La, Ronge, Sask, ., Canada]                8   \n2       1  [All, residents, asked, to, 'shelter, in, plac...               24   \n3       1  [13,000, people, receive, #, wildfires, evacua...                9   \n4       1  [Just, got, sent, this, photo, from, Ruby, #, ...               18   \n\n                                      processed_text  \n0  our deeds are the reason of this earthquake ma...  \n1             forest fire near la ronge sask. canada  \n2  all residents asked to shelter in place are be...  \n3  13,000 people receive wildfires evacuation ord...  \n4  just got sent this photo from ruby alaska as s...  ",
      "text/html": "<div>\n<style scoped>\n    .dataframe tbody tr th:only-of-type {\n        vertical-align: middle;\n    }\n\n    .dataframe tbody tr th {\n        vertical-align: top;\n    }\n\n    .dataframe thead th {\n        text-align: right;\n    }\n</style>\n<table border=\"1\" class=\"dataframe\">\n  <thead>\n    <tr style=\"text-align: right;\">\n      <th></th>\n      <th>id</th>\n      <th>keyword</th>\n      <th>location</th>\n      <th>text</th>\n      <th>target</th>\n      <th>raw_tokens</th>\n      <th>raw_token_count</th>\n      <th>processed_text</th>\n    </tr>\n  </thead>\n  <tbody>\n    <tr>\n      <th>0</th>\n      <td>1</td>\n      <td></td>\n      <td></td>\n      <td>Our Deeds are the Reason of this #earthquake M...</td>\n      <td>1</td>\n      <td>[Our, Deeds, are, the, Reason, of, this, #, ea...</td>\n      <td>14</td>\n      <td>our deeds are the reason of this earthquake ma...</td>\n    </tr>\n    <tr>\n      <th>1</th>\n      <td>4</td>\n      <td></td>\n      <td></td>\n      <td>Forest fire near La Ronge Sask. Canada</td>\n      <td>1</td>\n      <td>[Forest, fire, near, La, Ronge, Sask, ., Canada]</td>\n      <td>8</td>\n      <td>forest fire near la ronge sask. canada</td>\n    </tr>\n    <tr>\n      <th>2</th>\n      <td>5</td>\n      <td></td>\n      <td></td>\n      <td>All residents asked to 'shelter in place' are ...</td>\n      <td>1</td>\n      <td>[All, residents, asked, to, 'shelter, in, plac...</td>\n      <td>24</td>\n      <td>all residents asked to shelter in place are be...</td>\n    </tr>\n    <tr>\n      <th>3</th>\n      <td>6</td>\n      <td></td>\n      <td></td>\n      <td>13,000 people receive #wildfires evacuation or...</td>\n      <td>1</td>\n      <td>[13,000, people, receive, #, wildfires, evacua...</td>\n      <td>9</td>\n      <td>13,000 people receive wildfires evacuation ord...</td>\n    </tr>\n    <tr>\n      <th>4</th>\n      <td>7</td>\n      <td></td>\n      <td></td>\n      <td>Just got sent this photo from Ruby #Alaska as ...</td>\n      <td>1</td>\n      <td>[Just, got, sent, this, photo, from, Ruby, #, ...</td>\n      <td>18</td>\n      <td>just got sent this photo from ruby alaska as s...</td>\n    </tr>\n  </tbody>\n</table>\n</div>"
     },
     "execution_count": 40,
     "metadata": {},
     "output_type": "execute_result"
    }
   ],
   "source": [
    "train_df.head()"
   ],
   "metadata": {
    "collapsed": false,
    "pycharm": {
     "name": "#%%\n"
    }
   }
  },
  {
   "cell_type": "code",
   "execution_count": 10,
   "outputs": [],
   "source": [
    "test_df['raw_tokens'] = test_df['text'].apply(nltk.word_tokenize)\n",
    "test_df['raw_token_count'] = test_df['raw_tokens'].apply(lambda tokens: len(tokens))"
   ],
   "metadata": {
    "collapsed": false,
    "pycharm": {
     "name": "#%%\n"
    }
   }
  },
  {
   "cell_type": "code",
   "execution_count": 11,
   "outputs": [
    {
     "data": {
      "text/plain": "   id keyword location                                               text  \\\n0   0                                  Just happened a terrible car crash   \n1   2                   Heard about #earthquake is different cities, s...   \n2   3                   there is a forest fire at spot pond, geese are...   \n3   9                            Apocalypse lighting. #Spokane #wildfires   \n4  11                       Typhoon Soudelor kills 28 in China and Taiwan   \n\n                                          raw_tokens  raw_token_count  \n0          [Just, happened, a, terrible, car, crash]                6  \n1  [Heard, about, #, earthquake, is, different, c...               12  \n2  [there, is, a, forest, fire, at, spot, pond, ,...               22  \n3  [Apocalypse, lighting, ., #, Spokane, #, wildf...                7  \n4  [Typhoon, Soudelor, kills, 28, in, China, and,...                8  ",
      "text/html": "<div>\n<style scoped>\n    .dataframe tbody tr th:only-of-type {\n        vertical-align: middle;\n    }\n\n    .dataframe tbody tr th {\n        vertical-align: top;\n    }\n\n    .dataframe thead th {\n        text-align: right;\n    }\n</style>\n<table border=\"1\" class=\"dataframe\">\n  <thead>\n    <tr style=\"text-align: right;\">\n      <th></th>\n      <th>id</th>\n      <th>keyword</th>\n      <th>location</th>\n      <th>text</th>\n      <th>raw_tokens</th>\n      <th>raw_token_count</th>\n    </tr>\n  </thead>\n  <tbody>\n    <tr>\n      <th>0</th>\n      <td>0</td>\n      <td></td>\n      <td></td>\n      <td>Just happened a terrible car crash</td>\n      <td>[Just, happened, a, terrible, car, crash]</td>\n      <td>6</td>\n    </tr>\n    <tr>\n      <th>1</th>\n      <td>2</td>\n      <td></td>\n      <td></td>\n      <td>Heard about #earthquake is different cities, s...</td>\n      <td>[Heard, about, #, earthquake, is, different, c...</td>\n      <td>12</td>\n    </tr>\n    <tr>\n      <th>2</th>\n      <td>3</td>\n      <td></td>\n      <td></td>\n      <td>there is a forest fire at spot pond, geese are...</td>\n      <td>[there, is, a, forest, fire, at, spot, pond, ,...</td>\n      <td>22</td>\n    </tr>\n    <tr>\n      <th>3</th>\n      <td>9</td>\n      <td></td>\n      <td></td>\n      <td>Apocalypse lighting. #Spokane #wildfires</td>\n      <td>[Apocalypse, lighting, ., #, Spokane, #, wildf...</td>\n      <td>7</td>\n    </tr>\n    <tr>\n      <th>4</th>\n      <td>11</td>\n      <td></td>\n      <td></td>\n      <td>Typhoon Soudelor kills 28 in China and Taiwan</td>\n      <td>[Typhoon, Soudelor, kills, 28, in, China, and,...</td>\n      <td>8</td>\n    </tr>\n  </tbody>\n</table>\n</div>"
     },
     "execution_count": 11,
     "metadata": {},
     "output_type": "execute_result"
    }
   ],
   "source": [
    "test_df.head()"
   ],
   "metadata": {
    "collapsed": false,
    "pycharm": {
     "name": "#%%\n"
    }
   }
  },
  {
   "cell_type": "code",
   "execution_count": 42,
   "outputs": [],
   "source": [
    "test_df['processed_text'] = test_df['text'].apply(lambda text: text.lower())\n",
    "test_df['processed_text'] = test_df['text'].apply(lambda text: re.sub(r'http\\S+', ' ', text))\n",
    "test_df['processed_text'] = test_df['text'].apply(lambda text: re.sub(r'[!@#$\\']', '', text))"
   ],
   "metadata": {
    "collapsed": false,
    "pycharm": {
     "name": "#%%\n"
    }
   }
  },
  {
   "cell_type": "code",
   "execution_count": 43,
   "outputs": [
    {
     "data": {
      "text/plain": "   id keyword location                                               text  \\\n0   0                                  Just happened a terrible car crash   \n1   2                   Heard about #earthquake is different cities, s...   \n2   3                   there is a forest fire at spot pond, geese are...   \n3   9                            Apocalypse lighting. #Spokane #wildfires   \n4  11                       Typhoon Soudelor kills 28 in China and Taiwan   \n\n                                          raw_tokens  raw_token_count  \\\n0          [Just, happened, a, terrible, car, crash]                6   \n1  [Heard, about, #, earthquake, is, different, c...               12   \n2  [there, is, a, forest, fire, at, spot, pond, ,...               22   \n3  [Apocalypse, lighting, ., #, Spokane, #, wildf...                7   \n4  [Typhoon, Soudelor, kills, 28, in, China, and,...                8   \n\n                                      processed_text  \n0                 Just happened a terrible car crash  \n1  Heard about earthquake is different cities, st...  \n2  there is a forest fire at spot pond, geese are...  \n3             Apocalypse lighting. Spokane wildfires  \n4      Typhoon Soudelor kills 28 in China and Taiwan  ",
      "text/html": "<div>\n<style scoped>\n    .dataframe tbody tr th:only-of-type {\n        vertical-align: middle;\n    }\n\n    .dataframe tbody tr th {\n        vertical-align: top;\n    }\n\n    .dataframe thead th {\n        text-align: right;\n    }\n</style>\n<table border=\"1\" class=\"dataframe\">\n  <thead>\n    <tr style=\"text-align: right;\">\n      <th></th>\n      <th>id</th>\n      <th>keyword</th>\n      <th>location</th>\n      <th>text</th>\n      <th>raw_tokens</th>\n      <th>raw_token_count</th>\n      <th>processed_text</th>\n    </tr>\n  </thead>\n  <tbody>\n    <tr>\n      <th>0</th>\n      <td>0</td>\n      <td></td>\n      <td></td>\n      <td>Just happened a terrible car crash</td>\n      <td>[Just, happened, a, terrible, car, crash]</td>\n      <td>6</td>\n      <td>Just happened a terrible car crash</td>\n    </tr>\n    <tr>\n      <th>1</th>\n      <td>2</td>\n      <td></td>\n      <td></td>\n      <td>Heard about #earthquake is different cities, s...</td>\n      <td>[Heard, about, #, earthquake, is, different, c...</td>\n      <td>12</td>\n      <td>Heard about earthquake is different cities, st...</td>\n    </tr>\n    <tr>\n      <th>2</th>\n      <td>3</td>\n      <td></td>\n      <td></td>\n      <td>there is a forest fire at spot pond, geese are...</td>\n      <td>[there, is, a, forest, fire, at, spot, pond, ,...</td>\n      <td>22</td>\n      <td>there is a forest fire at spot pond, geese are...</td>\n    </tr>\n    <tr>\n      <th>3</th>\n      <td>9</td>\n      <td></td>\n      <td></td>\n      <td>Apocalypse lighting. #Spokane #wildfires</td>\n      <td>[Apocalypse, lighting, ., #, Spokane, #, wildf...</td>\n      <td>7</td>\n      <td>Apocalypse lighting. Spokane wildfires</td>\n    </tr>\n    <tr>\n      <th>4</th>\n      <td>11</td>\n      <td></td>\n      <td></td>\n      <td>Typhoon Soudelor kills 28 in China and Taiwan</td>\n      <td>[Typhoon, Soudelor, kills, 28, in, China, and,...</td>\n      <td>8</td>\n      <td>Typhoon Soudelor kills 28 in China and Taiwan</td>\n    </tr>\n  </tbody>\n</table>\n</div>"
     },
     "execution_count": 43,
     "metadata": {},
     "output_type": "execute_result"
    }
   ],
   "source": [
    "test_df.head()"
   ],
   "metadata": {
    "collapsed": false,
    "pycharm": {
     "name": "#%%\n"
    }
   }
  },
  {
   "cell_type": "code",
   "execution_count": 45,
   "outputs": [],
   "source": [
    "train_text, test_text = train_df['text'], test_df['text']\n",
    "texts = pd.concat([train_text, test_text])\n",
    "train_text_p, test_text_p = train_df['processed_text'], test_df['processed_text']\n",
    "processed_texts = pd.concat([train_text_p, test_text_p])"
   ],
   "metadata": {
    "collapsed": false,
    "pycharm": {
     "name": "#%%\n"
    }
   }
  },
  {
   "cell_type": "code",
   "execution_count": 25,
   "outputs": [
    {
     "name": "stdout",
     "output_type": "stream",
     "text": [
      "CPU times: total: 391 ms\n",
      "Wall time: 401 ms\n"
     ]
    }
   ],
   "source": [
    "%%time\n",
    "word_vec = TfidfVectorizer(\n",
    "    sublinear_tf=True,\n",
    "    strip_accents='unicode',\n",
    "    analyzer='word',\n",
    "    token_pattern=r'\\w{1,}',\n",
    "    stop_words='english',\n",
    "    ngram_range=(1, 1),\n",
    "    max_features=5000\n",
    ")\n",
    "\n",
    "word_vec.fit(texts)\n",
    "\n",
    "train_word_features = word_vec.transform(train_text)\n",
    "test_word_features = word_vec.transform(test_text)"
   ],
   "metadata": {
    "collapsed": false,
    "pycharm": {
     "name": "#%%\n"
    }
   }
  },
  {
   "cell_type": "code",
   "execution_count": 46,
   "outputs": [
    {
     "name": "stdout",
     "output_type": "stream",
     "text": [
      "CPU times: total: 312 ms\n",
      "Wall time: 392 ms\n"
     ]
    }
   ],
   "source": [
    "%%time\n",
    "word_vec = TfidfVectorizer(\n",
    "    sublinear_tf=True,\n",
    "    strip_accents='unicode',\n",
    "    analyzer='word',\n",
    "    token_pattern=r'\\w{1,}',\n",
    "    stop_words='english',\n",
    "    ngram_range=(1, 1),\n",
    "    max_features=5000\n",
    ")\n",
    "\n",
    "word_vec.fit(processed_texts)\n",
    "\n",
    "train_word_features_p = word_vec.transform(train_text)\n",
    "test_word_features_p = word_vec.transform(test_text)"
   ],
   "metadata": {
    "collapsed": false,
    "pycharm": {
     "name": "#%%\n"
    }
   }
  },
  {
   "cell_type": "code",
   "execution_count": 27,
   "outputs": [
    {
     "name": "stderr",
     "output_type": "stream",
     "text": [
      "C:\\Users\\rmora\\Desktop\\cloud_ml_projects\\venv\\lib\\site-packages\\sklearn\\feature_extraction\\text.py:554: UserWarning: The parameter 'token_pattern' will not be used since 'analyzer' != 'word'\n",
      "  warnings.warn(\n"
     ]
    },
    {
     "name": "stdout",
     "output_type": "stream",
     "text": [
      "CPU times: total: 16.8 s\n",
      "Wall time: 17.4 s\n"
     ]
    }
   ],
   "source": [
    "%%time\n",
    "character_vec = TfidfVectorizer(\n",
    "    sublinear_tf=True,\n",
    "    strip_accents='unicode',\n",
    "    analyzer='char',\n",
    "    token_pattern=r'\\w{1,}',\n",
    "    ngram_range=(2, 8),\n",
    "    max_features=50000\n",
    ")\n",
    "\n",
    "character_vec.fit(texts)\n",
    "\n",
    "train_characters_features = character_vec.transform(train_text)\n",
    "test_characters_features = character_vec.transform(test_text)"
   ],
   "metadata": {
    "collapsed": false,
    "pycharm": {
     "name": "#%%\n"
    }
   }
  },
  {
   "cell_type": "code",
   "execution_count": 47,
   "outputs": [
    {
     "name": "stderr",
     "output_type": "stream",
     "text": [
      "C:\\Users\\rmora\\Desktop\\cloud_ml_projects\\venv\\lib\\site-packages\\sklearn\\feature_extraction\\text.py:554: UserWarning: The parameter 'token_pattern' will not be used since 'analyzer' != 'word'\n",
      "  warnings.warn(\n"
     ]
    },
    {
     "name": "stdout",
     "output_type": "stream",
     "text": [
      "CPU times: total: 15 s\n",
      "Wall time: 15.4 s\n"
     ]
    }
   ],
   "source": [
    "%%time\n",
    "character_vec = TfidfVectorizer(\n",
    "    sublinear_tf=True,\n",
    "    strip_accents='unicode',\n",
    "    analyzer='char',\n",
    "    token_pattern=r'\\w{1,}',\n",
    "    ngram_range=(2, 8),\n",
    "    max_features=50000\n",
    ")\n",
    "\n",
    "character_vec.fit(processed_texts)\n",
    "\n",
    "train_characters_features_p = character_vec.transform(train_text_p)\n",
    "test_characters_features_p = character_vec.transform(test_text_p)"
   ],
   "metadata": {
    "collapsed": false,
    "pycharm": {
     "name": "#%%\n"
    }
   }
  },
  {
   "cell_type": "code",
   "execution_count": 28,
   "outputs": [],
   "source": [
    "train_features = hstack([train_characters_features, train_word_features])\n",
    "test_features = hstack([test_characters_features, test_word_features])"
   ],
   "metadata": {
    "collapsed": false,
    "pycharm": {
     "name": "#%%\n"
    }
   }
  },
  {
   "cell_type": "code",
   "execution_count": 48,
   "outputs": [],
   "source": [
    "train_features_p = hstack([train_characters_features_p, train_word_features_p])\n",
    "test_features_p = hstack([test_characters_features_p, test_word_features_p])"
   ],
   "metadata": {
    "collapsed": false,
    "pycharm": {
     "name": "#%%\n"
    }
   }
  },
  {
   "cell_type": "code",
   "execution_count": 29,
   "outputs": [
    {
     "data": {
      "text/plain": "array([[0., 0., 0., ..., 0., 0., 0.],\n       [0., 0., 0., ..., 0., 0., 0.],\n       [0., 0., 0., ..., 0., 0., 0.],\n       ...,\n       [0., 0., 0., ..., 0., 0., 0.],\n       [0., 0., 0., ..., 0., 0., 0.],\n       [0., 0., 0., ..., 0., 0., 0.]])"
     },
     "execution_count": 29,
     "metadata": {},
     "output_type": "execute_result"
    }
   ],
   "source": [
    "train_word_features.toarray()"
   ],
   "metadata": {
    "collapsed": false,
    "pycharm": {
     "name": "#%%\n"
    }
   }
  },
  {
   "cell_type": "code",
   "execution_count": 49,
   "outputs": [
    {
     "data": {
      "text/plain": "array([[0., 0., 0., ..., 0., 0., 0.],\n       [0., 0., 0., ..., 0., 0., 0.],\n       [0., 0., 0., ..., 0., 0., 0.],\n       ...,\n       [0., 0., 0., ..., 0., 0., 0.],\n       [0., 0., 0., ..., 0., 0., 0.],\n       [0., 0., 0., ..., 0., 0., 0.]])"
     },
     "execution_count": 49,
     "metadata": {},
     "output_type": "execute_result"
    }
   ],
   "source": [
    "train_word_features_p.toarray()"
   ],
   "metadata": {
    "collapsed": false,
    "pycharm": {
     "name": "#%%\n"
    }
   }
  },
  {
   "cell_type": "code",
   "execution_count": 31,
   "outputs": [
    {
     "name": "stdout",
     "output_type": "stream",
     "text": [
      "Fitting 5 folds, current:  1\n",
      "Fitting 5 folds, current:  2\n",
      "Fitting 5 folds, current:  3\n",
      "Fitting 5 folds, current:  4\n",
      "Fitting 5 folds, current:  5\n",
      "0.8720820476019953\n"
     ]
    }
   ],
   "source": [
    "train_oof = np.zeros(train_df.shape[0],)\n",
    "kf = KFold(random_state=127, shuffle=True)\n",
    "test_predictions = 0\n",
    "\n",
    "for jj, (train_index, val_index) in enumerate(kf.split(train_features)):\n",
    "    print(\"Fitting 5 folds, current: \", jj+1)\n",
    "    train_x = train_features.toarray()[train_index]\n",
    "    val_x = train_features.toarray()[val_index]\n",
    "    train_target = train_df['target'].values[train_index]\n",
    "    classifier = LogisticRegression(solver='sag')\n",
    "    classifier.fit(train_x, train_target)\n",
    "    train_oof[val_index] = classifier.predict_proba(val_x)[:,1]\n",
    "    test_predictions += classifier.predict_proba(test_features)[:1] / 5\n",
    "\n",
    "print(roc_auc_score(train_df['target'], train_oof))"
   ],
   "metadata": {
    "collapsed": false,
    "pycharm": {
     "name": "#%%\n"
    }
   }
  },
  {
   "cell_type": "code",
   "execution_count": 50,
   "outputs": [
    {
     "name": "stdout",
     "output_type": "stream",
     "text": [
      "Fitting 5 folds, current:  1\n",
      "Fitting 5 folds, current:  2\n",
      "Fitting 5 folds, current:  3\n",
      "Fitting 5 folds, current:  4\n",
      "Fitting 5 folds, current:  5\n",
      "0.8729501934916235\n"
     ]
    }
   ],
   "source": [
    "train_oof_p = np.zeros(train_df.shape[0],)\n",
    "kf = KFold(random_state=127, shuffle=True)\n",
    "test_predictions_p = 0\n",
    "\n",
    "for jj, (train_index, val_index) in enumerate(kf.split(train_features_p)):\n",
    "    print(\"Fitting 5 folds, current: \", jj+1)\n",
    "    train_x = train_features_p.toarray()[train_index]\n",
    "    val_x = train_features_p.toarray()[val_index]\n",
    "    train_target = train_df['target'].values[train_index]\n",
    "    classifier = LogisticRegression(solver='sag')\n",
    "    classifier.fit(train_x, train_target)\n",
    "    train_oof[val_index] = classifier.predict_proba(val_x)[:,1]\n",
    "    test_predictions += classifier.predict_proba(test_features)[:1] / 5\n",
    "\n",
    "print(roc_auc_score(train_df['target'], train_oof))"
   ],
   "metadata": {
    "collapsed": false,
    "pycharm": {
     "name": "#%%\n"
    }
   }
  },
  {
   "cell_type": "code",
   "execution_count": 32,
   "outputs": [
    {
     "data": {
      "text/plain": "array([[0.33307779, 0.66692221]])"
     },
     "execution_count": 32,
     "metadata": {},
     "output_type": "execute_result"
    }
   ],
   "source": [
    "test_predictions"
   ],
   "metadata": {
    "collapsed": false,
    "pycharm": {
     "name": "#%%\n"
    }
   }
  }
 ],
 "metadata": {
  "kernelspec": {
   "display_name": "Python 3",
   "language": "python",
   "name": "python3"
  },
  "language_info": {
   "codemirror_mode": {
    "name": "ipython",
    "version": 2
   },
   "file_extension": ".py",
   "mimetype": "text/x-python",
   "name": "python",
   "nbconvert_exporter": "python",
   "pygments_lexer": "ipython2",
   "version": "2.7.6"
  }
 },
 "nbformat": 4,
 "nbformat_minor": 0
}